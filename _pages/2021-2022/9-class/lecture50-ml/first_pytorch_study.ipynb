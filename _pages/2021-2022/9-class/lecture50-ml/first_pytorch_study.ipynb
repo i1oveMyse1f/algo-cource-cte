{
  "nbformat": 4,
  "nbformat_minor": 0,
  "metadata": {
    "colab": {
      "name": "sirius-pytorch-study.ipynb",
      "provenance": [],
      "collapsed_sections": []
    },
    "kernelspec": {
      "name": "python3",
      "display_name": "Python 3"
    },
    "language_info": {
      "name": "python"
    },
    "accelerator": "GPU"
  },
  "cells": [
    {
      "cell_type": "markdown",
      "metadata": {
        "id": "fNZT5u2OrYV9"
      },
      "source": [
        "# PyTorch и MNIST"
      ]
    },
    {
      "cell_type": "markdown",
      "metadata": {
        "id": "yWW-zhrT-5mY"
      },
      "source": [
        "В этом задании предлагается обучить свёрточную нейросеть, определяющая, какая цифра нарисована на картинке, используя PyTorch."
      ]
    },
    {
      "cell_type": "markdown",
      "metadata": {
        "id": "OQNPod1X1scP"
      },
      "source": [
        "## Загрузка библиотек"
      ]
    },
    {
      "cell_type": "markdown",
      "metadata": {
        "id": "fuwDgrw1-46D"
      },
      "source": [
        "Сначала загрузим библиотеки, которые понадобятся"
      ]
    },
    {
      "cell_type": "code",
      "metadata": {
        "id": "5ELpP9K3rVsy"
      },
      "source": [
        "import numpy as np\n",
        "\n",
        "import torch\n",
        "import torchvision\n",
        "from torchvision import transforms\n",
        "\n",
        "from tqdm import tqdm\n",
        "\n",
        "from torch import nn\n",
        "from torch.nn import functional as F\n",
        "\n",
        "from torch.utils.data import DataLoader\n",
        "\n",
        "from IPython.display import clear_output\n",
        "\n",
        "import matplotlib.pyplot as plt"
      ],
      "execution_count": null,
      "outputs": []
    },
    {
      "cell_type": "markdown",
      "metadata": {
        "id": "8_sKMeBMtv4R"
      },
      "source": [
        "## Подготовка данных"
      ]
    },
    {
      "cell_type": "markdown",
      "metadata": {
        "id": "kRByd8uf_1Nj"
      },
      "source": [
        "Нейросеть будет обучаться на датасете из цетных картинок $32 \\times 32$, представляющих 10 различных классов представляют самолеты, автомобили, птиц, кошек, оленей, собак, лягушек, лошадей, корабли и грузовики [CIFAR-10](https://en.wikipedia.org/wiki/CIFAR-10).\n",
        "\n",
        "К счастью, в PyTorch уже встроен загрузчик этого датасета, и мы им воспользуемся. Но для начала зададим некоторые параметры для загрузчика:\n",
        "\n",
        "1. Размер батча. PyTorch умеет подавать на обучение сразу не один объект, а несколько. В каком объёме &mdash; зависит от предоставленных вычислительных возможностей. Обычно ставят `batch_size` равным 64, 128, 256 или 512.\n",
        "\n",
        "2. Предварительные преобразования. На лекции рассказывалось, что PyTorch умеет работать с тензорами, в то время как картинки с цифрами являются растровыми изображениями. Чтобы PyTorch мог с ними работать, нужно выполнить преобразования. Воспользуйтесь классами из [`torchvision.transforms`](https://pytorch.org/vision/stable/transforms.html): `ToTensor`, чтобы превратить изображение в тензор, `Normalize`, чтобы нормализовать его, и `Compose`, чтобы совместить преобразования."
      ]
    },
    {
      "cell_type": "code",
      "metadata": {
        "id": "5ULNqcToty6i"
      },
      "source": [
        "batch_size = ..."
      ],
      "execution_count": null,
      "outputs": []
    },
    {
      "cell_type": "code",
      "metadata": {
        "id": "yl0ZYLbAv_hK"
      },
      "source": [
        "train_transform = transforms.Compose([\n",
        "    ...\n",
        "])\n",
        "test_transform = transforms.Compose([\n",
        "    ...\n",
        "])"
      ],
      "execution_count": null,
      "outputs": []
    },
    {
      "cell_type": "markdown",
      "metadata": {
        "id": "5WN1SuInCjAp"
      },
      "source": [
        "Инициализируем загрузчик:"
      ]
    },
    {
      "cell_type": "code",
      "metadata": {
        "id": "pa64TbZWxYmh"
      },
      "source": [
        "train_data = torchvision.datasets.CIFAR10('./files/', train=True, download=True, transform=train_transform)\n",
        "train_loader = DataLoader(train_data, batch_size=batch_size, shuffle=True)\n",
        "\n",
        "test_data = torchvision.datasets.CIFAR10('./files/', train=False, download=True, transform=test_transform)\n",
        "test_loader = DataLoader(test_data, batch_size=batch_size, shuffle=True)"
      ],
      "execution_count": null,
      "outputs": []
    },
    {
      "cell_type": "markdown",
      "metadata": {
        "id": "KHec2nV3Cyzd"
      },
      "source": [
        "Убедитесь, что изображения загрузились:"
      ]
    },
    {
      "cell_type": "code",
      "metadata": {
        "id": "AN_HajevPUzA"
      },
      "source": [
        "fig, ax = plt.subplots(2, 3, figsize=(10, 10))\n",
        "for image, number in train_loader:\n",
        "    for i in range(2):\n",
        "        for j in range(3):\n",
        "            ax[i, j].imshow(image[i * 3 + j].reshape(28, 28))\n",
        "            ax[i, j].set_title(f'It\\'s {number[i * 3 + j]}')\n",
        "            ax[i, j].axis('off')\n",
        "    break\n",
        "fig.show()"
      ],
      "execution_count": null,
      "outputs": []
    },
    {
      "cell_type": "markdown",
      "metadata": {
        "id": "aoZe4ybT1oin"
      },
      "source": [
        "## Подготовка нейросети"
      ]
    },
    {
      "cell_type": "markdown",
      "metadata": {
        "id": "10Clb3ZnDJ-C"
      },
      "source": [
        "Опишите класс нейросети `ConvNet`: в его конструкторе инициализируйте слои нейросети. В функции `forward` на вход подается батч из картинок, а на выход &mdash; результат классификатора (пройденные через слои картинки).\n",
        "\n",
        "**Вам могут понадобиться:**\n",
        "\n",
        "1. Классы из модуля [`torch.nn`](https://pytorch.org/docs/stable/nn.html) для обучения:\n",
        "    1. `nn.Conv2d` &mdash; двумерная свёртка\n",
        "    3. `nn.Linear` &mdash; обычный линейный слой \n",
        "2. Класс из модуля `torch.nn` для отбора значений и борьбы с переобучением:\n",
        "    1. `nn.MaxPool2d` &mdash; двумерный MaxPool\n",
        "    2. `nn.Dropout` &mdash; случайное отключение нейронов\n",
        "3. Классы из модуля `torch.nn` для функций нелинейности:\n",
        "    1. `nn.ReLU` &mdash; ReLU\n",
        "    2. `nn.Softmax` &mdash; Softmax\n",
        "4. И, наконец, класс из `torch.nn` для связи остальных компонентов:\n",
        "    1. `nn.Sequential`\n"
      ]
    },
    {
      "cell_type": "code",
      "metadata": {
        "id": "d0AhJZr7zMg4"
      },
      "source": [
        "class Model(nn.Module):\n",
        "    def __init__(self, out_features=10):\n",
        "        super().__init__()\n",
        "        self.blocks = nn.Sequential(\n",
        "            ...\n",
        "        )\n",
        "    \n",
        "    def forward(self, x):\n",
        "        return self.blocks(x)"
      ],
      "execution_count": null,
      "outputs": []
    },
    {
      "cell_type": "markdown",
      "source": [
        "Посмотрим, доступна ли видеокарта для вычислений. Если этот ноутбук открыт в Google Colab, убедитесь, что он запущен в среде с GPU (Меню -> Runtime -> Change runtime type -> Hardware accelerator: GPU). "
      ],
      "metadata": {
        "id": "TkgnH8C-HE32"
      }
    },
    {
      "cell_type": "code",
      "source": [
        "device = torch.device('cuda:0') if torch.cuda.is_available() else torch.device('cpu')\n",
        "if str(device) == 'cuda:0':\n",
        "    is_gpu_available = 'доступна, вычисления будут на GPU'\n",
        "else:\n",
        "    is_gpu_available = 'недоступна, вычисления будут на CPU'\n",
        "print(f'Статус доступности видеокарты: {is_gpu_available}')"
      ],
      "metadata": {
        "id": "5iuGAJdzIkHI"
      },
      "execution_count": null,
      "outputs": []
    },
    {
      "cell_type": "markdown",
      "metadata": {
        "id": "6VLPOPQcGx66"
      },
      "source": [
        "Инициализируйте модель, а также задайте [оптимизатор](https://pytorch.org/docs/stable/optim.html) градиентного спуска (например, Adam или SGD), [функционал ошибки](https://pytorch.org/docs/stable/generated/torch.nn.CrossEntropyLoss.html?highlight=crossentropyloss) и количетсво эпох обучения:"
      ]
    },
    {
      "cell_type": "code",
      "metadata": {
        "id": "bMh6_ZgM2SLI"
      },
      "source": [
        "model = ...\n",
        "optimizer = ...\n",
        "criterion = ...\n",
        "n_epochs = ..."
      ],
      "execution_count": null,
      "outputs": []
    },
    {
      "cell_type": "markdown",
      "metadata": {
        "id": "H-v-IrP1HjEL"
      },
      "source": [
        "Перенесём модель на видеокарту, чтобы в разы ускорить вычисления."
      ]
    },
    {
      "cell_type": "code",
      "metadata": {
        "id": "W9utAZmy68cG"
      },
      "source": [
        "model.to(device)"
      ],
      "execution_count": null,
      "outputs": []
    },
    {
      "cell_type": "markdown",
      "metadata": {
        "id": "gVfScyR_3A5C"
      },
      "source": [
        "## Обучение и тестирование"
      ]
    },
    {
      "cell_type": "markdown",
      "metadata": {
        "id": "5PyfJMmQIpks"
      },
      "source": [
        "В качестве метрики будем использовать точность предсказаний, её подсчитать можно при помощи `accuracy_score`:"
      ]
    },
    {
      "cell_type": "markdown",
      "metadata": {
        "id": "9KMPkOAEJKkM"
      },
      "source": [
        "Вспомогательная функция, которая принимает список точностей на обучающей и на тестировочной выборке после каждой эпохи и строит график:"
      ]
    },
    {
      "cell_type": "code",
      "metadata": {
        "id": "hYCbovbe9zR8"
      },
      "source": [
        "def plot_loss_accuracy(train_losses, train_accs, test_accs):\n",
        "    clear_output(True)\n",
        "    fig, ax = plt.subplots(1, 2, figsize=(26,10))\n",
        "    ax[0].set_title('Train Loss')\n",
        "    ax[0].plot(train_losses)\n",
        "    ax[1].set_title('Accuracy')\n",
        "    ax[1].plot(train_accs, label='Train')\n",
        "    ax[1].plot(test_accs, label='Test')\n",
        "    ax[1].legend()\n",
        "    plt.grid()\n",
        "    plt.show()"
      ],
      "execution_count": null,
      "outputs": []
    },
    {
      "cell_type": "markdown",
      "metadata": {
        "id": "JRvNFEQIJdyf"
      },
      "source": [
        "Напишите функции обучения одной эпохи, подсчёт предсказания и полного обучения нейросети.\n",
        "\n",
        "\n",
        "*Процесс обучения одной эпохи:*\n",
        "1. Обнуление градиента оптимизатора\n",
        "2. Вычисление предсказаний\n",
        "3. Подсчет ошибки\n",
        "4. Вычисление антиградиента функционала ошибки\n",
        "5. Спуск оптимизатора по антиградиенту\n",
        "\n",
        "*Не забывайте до работы с моделью переводить все тензоры на GPU, а перед подсчётом точности отсоединять нужные тензоры и переводить их на CPU при помощи `.detach().cpu()`*"
      ]
    },
    {
      "cell_type": "code",
      "metadata": {
        "id": "APa7XNS13DHq"
      },
      "source": [
        "def train_epoch(model, train_loader, criterion, optimizer, device='cpu'):\n",
        "    model.train()\n",
        "    train_losses = []\n",
        "    train_accuracy = []\n",
        "\n",
        "    for batch_X, batch_Y in tqdm(train_loader):\n",
        "        batch_X = batch_X.to(device)\n",
        "        batch_Y = batch_Y.to(device)\n",
        "\n",
        "        optimizer.zero_grad()\n",
        "\n",
        "        probs = ...\n",
        "        classes = ...\n",
        "        loss = criterion(probs, batch_Y)\n",
        "\n",
        "        loss.backward()\n",
        "\n",
        "        train_losses.append(loss.item())\n",
        "        train_accuracy.append((classes == batch_Y).float().mean().item())\n",
        "        optimizer.step()\n",
        "    \n",
        "    return np.mean(train_losses), np.mean(train_accuracy)\n",
        "\n",
        "\n",
        "def predict(model, test_loader, criterion, device='cpu'):\n",
        "    model.eval()\n",
        "    test_accuracy = []\n",
        "    with torch.no_grad():\n",
        "        for batch_X, batch_Y in tqdm(test_loader):\n",
        "            batch_X = batch_X.to(device)\n",
        "            batch_Y = batch_Y.to(device)\n",
        "\n",
        "            probs = ...\n",
        "            classes = ...\n",
        "            test_accuracy.append((classes == batch_Y).float().mean().item())\n",
        "    return np.mean(test_accuracy)\n",
        "\n",
        "\n",
        "def train(model, train_loader, test_loader, criterion, optimizer, n_epochs, device='cpu'):\n",
        "    train_losses = []\n",
        "    train_accs = []\n",
        "    test_accs = []\n",
        "\n",
        "    for epoch in range(n_epochs):\n",
        "        loss, accs = train_epoch(model, train_loader, criterion, optimizer, device)\n",
        "        train_losses.append(loss)\n",
        "        train_accs.append(accs)\n",
        "        test_accs.append(predict(model, test_loader, criterion, device))\n",
        "        plot_loss_accuracy(train_losses, train_accs, test_accs)\n"
      ],
      "execution_count": null,
      "outputs": []
    },
    {
      "cell_type": "markdown",
      "metadata": {
        "id": "oYx2nvdaJ1mo"
      },
      "source": [
        "Запустите обучение нейросети:"
      ]
    },
    {
      "cell_type": "code",
      "metadata": {
        "id": "hedHC6jTJ5Kr"
      },
      "source": [
        "train(model, train_loader, test_loader, criterion, optimizer, n_epochs, device)"
      ],
      "execution_count": null,
      "outputs": []
    },
    {
      "cell_type": "markdown",
      "source": [
        "## Перенос обучения"
      ],
      "metadata": {
        "id": "XMLBGTCANvc1"
      }
    },
    {
      "cell_type": "markdown",
      "source": [
        "Одним из мощных инструментов в глубинном обучении является перенос обучения (Transer Learning).\n",
        "Суть приёма заключается в том, что для решения задачи мы не собираем новую модель и обучаем её с нуля, а используем другую предобученную другую, и дообучаем её под поставленную задачу.\n",
        "\n",
        "В этой задаче предлагается воспользоваться трюком: сначала обучить сеть на классификацию поворотов MNIST, а затем уже дообучить её на распознавание цифр."
      ],
      "metadata": {
        "id": "7DyY52caONB-"
      }
    },
    {
      "cell_type": "code",
      "source": [
        "def sample_and_rotate(x):\n",
        "    angles = [0, 90, 180, 270]\n",
        "    label = np.random.choice(np.arange(len(angles)))\n",
        "    \n",
        "    rotated = transforms.functional.rotate(x, angles[label])\n",
        "    return rotated, label"
      ],
      "metadata": {
        "id": "3fVgQF3rKtqA"
      },
      "execution_count": null,
      "outputs": []
    },
    {
      "cell_type": "code",
      "source": [
        "tt = transforms.ToTensor()\n",
        "nm = transforms.Normalize((0.5,), (0.5,))\n",
        "transform_first = lambda x: (nm(tt(x[0])), x[1])\n",
        "sampled_rotation_transform = transforms.Lambda(\n",
        "    lambda x: transform_first(sample_and_rotate(x)))\n",
        "\n",
        "rotation_dataset = torchvision.datasets.MNIST('./files/', train=True, download=True, transform=sampled_rotation_transform)\n",
        "rotation_loader = DataLoader(rotation_dataset, batch_size=batch_size, shuffle=True)"
      ],
      "metadata": {
        "id": "MfV_v0mgKwKS"
      },
      "execution_count": null,
      "outputs": []
    },
    {
      "cell_type": "code",
      "source": [
        "sample_image, label = rotation_dataset[0][0]\n",
        "\n",
        "plt.imshow(0.5 * (sample_image.permute(1, 2, 0).squeeze() + 1))\n",
        "print(\"Label:\", label)"
      ],
      "metadata": {
        "id": "p4G-mjjaLIhO"
      },
      "execution_count": null,
      "outputs": []
    },
    {
      "cell_type": "code",
      "source": [
        "model = Model(10).to(device)\n",
        "optimizer = ...\n",
        "criterion = ...\n",
        "n_epochs = ..."
      ],
      "metadata": {
        "id": "66IeMlDgNEv5"
      },
      "execution_count": null,
      "outputs": []
    },
    {
      "cell_type": "code",
      "source": [
        "def train_epoch_rotation(model, train_loader, criterion, optimizer, device='cpu'):\n",
        "    model.train()\n",
        "    train_losses = []\n",
        "    train_accuracy = []\n",
        "\n",
        "    for (batch_X, batch_Y), _ in tqdm(train_loader):\n",
        "        batch_X = batch_X.to(device)\n",
        "        batch_Y = batch_Y.to(device)\n",
        "\n",
        "        optimizer.zero_grad()\n",
        "        probs = ...\n",
        "        classes = ...\n",
        "        loss = criterion(probs, batch_Y)\n",
        "        loss.backward()\n",
        "\n",
        "        train_losses.append(loss.item())\n",
        "        train_accuracy.append((classes == batch_Y).float().mean().item())\n",
        "        optimizer.step()\n",
        "    \n",
        "    return np.mean(train_losses), np.mean(train_accuracy)\n",
        "\n",
        "\n",
        "def train_rotation(model, train_loader, criterion, optimizer, n_epochs, device='cpu'):\n",
        "    train_losses = []\n",
        "    train_accs = []\n",
        "    test_accs = []\n",
        "\n",
        "    for epoch in range(n_epochs):\n",
        "        loss, accs = train_epoch_rotation(model, train_loader, criterion, optimizer, device)\n",
        "        train_losses.append(loss)\n",
        "        train_accs.append(accs)\n",
        "        plot_loss_accuracy(train_losses, train_accs, [])\n"
      ],
      "metadata": {
        "id": "39vugQsqPSnj"
      },
      "execution_count": null,
      "outputs": []
    },
    {
      "cell_type": "code",
      "source": [
        "train_rotation(model, rotation_loader, criterion, optimizer, n_epochs, device)"
      ],
      "metadata": {
        "id": "xNBiLxIfLMWa"
      },
      "execution_count": null,
      "outputs": []
    },
    {
      "cell_type": "code",
      "source": [
        "model.blocks[-2] = nn.Linear(1568, 10)\n",
        "optimizer = torch.optim.Adam(model.blocks[-2].parameters(), 1e-4)\n",
        "criterion = nn.NLLLoss()\n",
        "n_epochs = 10\n",
        "model.to(device)"
      ],
      "metadata": {
        "id": "0H5Poq0USVbh"
      },
      "execution_count": null,
      "outputs": []
    },
    {
      "cell_type": "code",
      "source": [
        "from copy import deepcopy\n",
        "tmp = deepcopy(model)"
      ],
      "metadata": {
        "id": "AYV2tqxXUF_O"
      },
      "execution_count": null,
      "outputs": []
    },
    {
      "cell_type": "code",
      "source": [
        "train(model, train_loader, test_loader, criterion, optimizer, n_epochs, device)"
      ],
      "metadata": {
        "id": "PS5CR0q_SiQX"
      },
      "execution_count": null,
      "outputs": []
    },
    {
      "cell_type": "code",
      "source": [
        "model = deepcopy(tmp)\n",
        "optimizer = torch.optim.Adam(model.parameters(), 1e-4)\n",
        "criterion = nn.NLLLoss()\n",
        "n_epochs = 10\n",
        "model.to(device)"
      ],
      "metadata": {
        "id": "AqVOAYXoUq-E"
      },
      "execution_count": null,
      "outputs": []
    },
    {
      "cell_type": "code",
      "source": [
        "train(model, train_loader, test_loader, criterion, optimizer, n_epochs, device)"
      ],
      "metadata": {
        "id": "9yWQGV_DU1xR"
      },
      "execution_count": null,
      "outputs": []
    }
  ]
}