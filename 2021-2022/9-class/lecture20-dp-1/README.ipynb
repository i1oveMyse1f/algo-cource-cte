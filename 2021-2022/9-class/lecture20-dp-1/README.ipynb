{
 "cells": [
  {
   "cell_type": "markdown",
   "id": "favorite-trademark",
   "metadata": {
    "toc": true
   },
   "source": [
    "<h1>Table of Contents<span class=\"tocSkip\"></span></h1>\n",
    "<div class=\"toc\"><ul class=\"toc-item\"><li><span><a href=\"#Линейная-и-не-очень-динамика\" data-toc-modified-id=\"Линейная-и-не-очень-динамика-1\"><span class=\"toc-item-num\">1&nbsp;&nbsp;</span>Линейная и не очень динамика</a></span><ul class=\"toc-item\"><li><span><a href=\"#Что-такое-динамическое-программировние?\" data-toc-modified-id=\"Что-такое-динамическое-программировние?-1.1\"><span class=\"toc-item-num\">1.1&nbsp;&nbsp;</span>Что такое динамическое программировние?</a></span></li><li><span><a href=\"#Кузнечик\" data-toc-modified-id=\"Кузнечик-1.2\"><span class=\"toc-item-num\">1.2&nbsp;&nbsp;</span>Кузнечик</a></span><ul class=\"toc-item\"><li><span><a href=\"#Задача\" data-toc-modified-id=\"Задача-1.2.1\"><span class=\"toc-item-num\">1.2.1&nbsp;&nbsp;</span>Задача</a></span></li><li><span><a href=\"#Решение\" data-toc-modified-id=\"Решение-1.2.2\"><span class=\"toc-item-num\">1.2.2&nbsp;&nbsp;</span>Решение</a></span></li><li><span><a href=\"#Код\" data-toc-modified-id=\"Код-1.2.3\"><span class=\"toc-item-num\">1.2.3&nbsp;&nbsp;</span>Код</a></span></li><li><span><a href=\"#Выводы\" data-toc-modified-id=\"Выводы-1.2.4\"><span class=\"toc-item-num\">1.2.4&nbsp;&nbsp;</span>Выводы</a></span></li></ul></li><li><span><a href=\"#Кузнечик-на-максималках\" data-toc-modified-id=\"Кузнечик-на-максималках-1.3\"><span class=\"toc-item-num\">1.3&nbsp;&nbsp;</span>Кузнечик на максималках</a></span><ul class=\"toc-item\"><li><span><a href=\"#Задача\" data-toc-modified-id=\"Задача-1.3.1\"><span class=\"toc-item-num\">1.3.1&nbsp;&nbsp;</span>Задача</a></span></li><li><span><a href=\"#Решение-за-квадрат\" data-toc-modified-id=\"Решение-за-квадрат-1.3.2\"><span class=\"toc-item-num\">1.3.2&nbsp;&nbsp;</span>Решение за квадрат</a></span></li><li><span><a href=\"#Решение-за-линию\" data-toc-modified-id=\"Решение-за-линию-1.3.3\"><span class=\"toc-item-num\">1.3.3&nbsp;&nbsp;</span>Решение за линию</a></span></li></ul></li><li><span><a href=\"#Самая-длинная-подпоследовательность-(из-контеста-по-ТЧ)\" data-toc-modified-id=\"Самая-длинная-подпоследовательность-(из-контеста-по-ТЧ)-1.4\"><span class=\"toc-item-num\">1.4&nbsp;&nbsp;</span>Самая длинная подпоследовательность (из контеста по ТЧ)</a></span><ul class=\"toc-item\"><li><span><a href=\"#Задача\" data-toc-modified-id=\"Задача-1.4.1\"><span class=\"toc-item-num\">1.4.1&nbsp;&nbsp;</span>Задача</a></span></li><li><span><a href=\"#Решение\" data-toc-modified-id=\"Решение-1.4.2\"><span class=\"toc-item-num\">1.4.2&nbsp;&nbsp;</span>Решение</a></span></li></ul></li><li><span><a href=\"#НОП\" data-toc-modified-id=\"НОП-1.5\"><span class=\"toc-item-num\">1.5&nbsp;&nbsp;</span>НОП</a></span><ul class=\"toc-item\"><li><span><a href=\"#Задача-(о-наибольшей-общей-подпоследовательности)\" data-toc-modified-id=\"Задача-(о-наибольшей-общей-подпоследовательности)-1.5.1\"><span class=\"toc-item-num\">1.5.1&nbsp;&nbsp;</span>Задача (о наибольшей общей подпоследовательности)</a></span></li><li><span><a href=\"#Решение-за-квадрат\" data-toc-modified-id=\"Решение-за-квадрат-1.5.2\"><span class=\"toc-item-num\">1.5.2&nbsp;&nbsp;</span>Решение за квадрат</a></span></li></ul></li><li><span><a href=\"#Расстояние-Левенштейна\" data-toc-modified-id=\"Расстояние-Левенштейна-1.6\"><span class=\"toc-item-num\">1.6&nbsp;&nbsp;</span>Расстояние Левенштейна</a></span><ul class=\"toc-item\"><li><span><a href=\"#Задача\" data-toc-modified-id=\"Задача-1.6.1\"><span class=\"toc-item-num\">1.6.1&nbsp;&nbsp;</span>Задача</a></span></li><li><span><a href=\"#Решение-за-квадрат\" data-toc-modified-id=\"Решение-за-квадрат-1.6.2\"><span class=\"toc-item-num\">1.6.2&nbsp;&nbsp;</span>Решение за квадрат</a></span></li></ul></li><li><span><a href=\"#НВП\" data-toc-modified-id=\"НВП-1.7\"><span class=\"toc-item-num\">1.7&nbsp;&nbsp;</span>НВП</a></span><ul class=\"toc-item\"><li><span><a href=\"#Задача-(о-наибольшей-возрастающей-подпоследовательности)\" data-toc-modified-id=\"Задача-(о-наибольшей-возрастающей-подпоследовательности)-1.7.1\"><span class=\"toc-item-num\">1.7.1&nbsp;&nbsp;</span>Задача (о наибольшей возрастающей подпоследовательности)</a></span></li><li><span><a href=\"#Решение\" data-toc-modified-id=\"Решение-1.7.2\"><span class=\"toc-item-num\">1.7.2&nbsp;&nbsp;</span>Решение</a></span></li><li><span><a href=\"#Код-с-восстановлением-ответа\" data-toc-modified-id=\"Код-с-восстановлением-ответа-1.7.3\"><span class=\"toc-item-num\">1.7.3&nbsp;&nbsp;</span>Код с восстановлением ответа</a></span></li></ul></li><li><span><a href=\"#Рюкзак\" data-toc-modified-id=\"Рюкзак-1.8\"><span class=\"toc-item-num\">1.8&nbsp;&nbsp;</span>Рюкзак</a></span><ul class=\"toc-item\"><li><span><a href=\"#Задача\" data-toc-modified-id=\"Задача-1.8.1\"><span class=\"toc-item-num\">1.8.1&nbsp;&nbsp;</span>Задача</a></span></li><li><span><a href=\"#Решение\" data-toc-modified-id=\"Решение-1.8.2\"><span class=\"toc-item-num\">1.8.2&nbsp;&nbsp;</span>Решение</a></span></li></ul></li></ul></li></ul></div>"
   ]
  },
  {
   "cell_type": "markdown",
   "id": "wanted-database",
   "metadata": {},
   "source": [
    "# Линейная и не очень динамика\n",
    "\n",
    "## Что такое динамическое программировние?\n",
    "\n",
    "Динамическое программирование в теории управления и теории вычислительных систем — способ решения сложных задач путём разбиения их на более простые подзадачи. Он применим к задачам с оптимальной подструктурой, выглядящим как набор перекрывающихся подзадач, сложность которых чуть меньше исходной. В этом случае время вычислений, по сравнению с «наивными» методами, можно значительно сократить.\n",
    "\n",
    "Ключевая идея в динамическом программировании достаточно проста. Как правило, чтобы решить поставленную задачу, требуется решить отдельные части задачи (подзадачи), после чего объединить решения подзадач в одно общее решение. Часто многие из этих подзадач одинаковы. Подход динамического программирования состоит в том, чтобы решить каждую подзадачу только один раз, сократив тем самым количество вычислений. Это особенно полезно в случаях, когда число повторяющихся подзадач экспоненциально велико.\n",
    "\n",
    "Звучит сложно. Давайте на примерах."
   ]
  },
  {
   "cell_type": "markdown",
   "id": "alleged-doctrine",
   "metadata": {},
   "source": [
    "## Кузнечик\n",
    "\n",
    "### Задача\n",
    "> Есть полоска из клеток длины n. Кузнечик находится в клетке номер 1 и хочет попасть в клетку номер n. Каждый раз кузнечик может прыгать лишь вперёд на расстояние от 1 до 3. Сколько различных маршрутов существует у кузнечика?"
   ]
  },
  {
   "cell_type": "markdown",
   "id": "regulation-interim",
   "metadata": {},
   "source": [
    "### Решение\n",
    "  Если подходить к задаче в лоб с помощью перебора, то всё выглядит очень грустно. Да и работать будет долго. Разобьем задачу на более простые подзадачи:\n",
    "\n",
    "  Пусть ```dp[k]``` - ответ на задачу, если полоска была длины k. Будем называть это _состоянием динамики_.Предположим, мы умеем вычислять dp для всех k от 1 до n-1. Как же вычислить ```dp[n]```? В клетку номер n кузнечик мог попасть лишь из трёх: $n-1$, $n-2$, $n-3$. При этом все три типа маршрута будут разными. Поэтому количество маршрутов до клетки n можно вычислить по _рекурсивной формуле_:\n",
    "\n",
    "  $$ dp[n] = dp[n - 1] + dp[n - 2] + dp[n - 2] $$\n",
    "  \n",
    "  Это замечательно, мы почти решили задачу! Осталось обговорить пару моментов, а именно: _базу динамики_ и _порядок обхода_.\n",
    "  \n",
    "  База динамики, либо начальное состояние динамики - это то состояние, от которого можно оттолкнуться при вычислении рекурсивной формулы. Например, в нашем случае это будет ```dp[1] = 1```. Все остальные значения можно вычислить по рекурсивной формуле в порядке увеличения n."
   ]
  },
  {
   "cell_type": "markdown",
   "id": "compliant-lounge",
   "metadata": {},
   "source": [
    "### Код"
   ]
  },
  {
   "cell_type": "code",
   "execution_count": 5,
   "id": "institutional-right",
   "metadata": {
    "ExecuteTime": {
     "end_time": "2021-10-10T14:34:37.266957Z",
     "start_time": "2021-10-10T14:34:37.266621Z"
    }
   },
   "outputs": [],
   "source": [
    "#include <iostream>\n",
    "#include <vector>\n",
    "using namespace std;"
   ]
  },
  {
   "cell_type": "code",
   "execution_count": 6,
   "id": "assured-retailer",
   "metadata": {
    "ExecuteTime": {
     "end_time": "2021-10-10T14:34:37.572281Z",
     "start_time": "2021-10-10T14:34:37.568812Z"
    }
   },
   "outputs": [],
   "source": [
    "int main() {\n",
    "    int n;\n",
    "    cin >> n;\n",
    "    vector<int> dp(n + 1);\n",
    "    dp[1] = 1;\n",
    "    for (int i = 2; i <= n; ++i) {\n",
    "        dp[i] = dp[i - 1];\n",
    "        if (i >= 2)\n",
    "            dp[i] += dp[i - 2];\n",
    "        if (i >= 3)\n",
    "            dp[i] += dp[i - 3];\n",
    "    }\n",
    "    cout << dp[n];\n",
    "}"
   ]
  },
  {
   "cell_type": "code",
   "execution_count": 7,
   "id": "sonic-browse",
   "metadata": {
    "ExecuteTime": {
     "end_time": "2021-10-10T14:34:40.627046Z",
     "start_time": "2021-10-10T14:34:38.355157Z"
    }
   },
   "outputs": [
    {
     "name": "stdout",
     "output_type": "stream",
     "text": [
      "1\n",
      "1"
     ]
    },
    {
     "data": {
      "text/plain": [
       "0"
      ]
     },
     "execution_count": 7,
     "metadata": {},
     "output_type": "execute_result"
    }
   ],
   "source": [
    "main()"
   ]
  },
  {
   "cell_type": "code",
   "execution_count": 8,
   "id": "declared-baseball",
   "metadata": {
    "ExecuteTime": {
     "end_time": "2021-10-10T14:34:42.969048Z",
     "start_time": "2021-10-10T14:34:41.843201Z"
    }
   },
   "outputs": [
    {
     "name": "stdout",
     "output_type": "stream",
     "text": [
      "2\n",
      "1"
     ]
    },
    {
     "data": {
      "text/plain": [
       "0"
      ]
     },
     "execution_count": 8,
     "metadata": {},
     "output_type": "execute_result"
    }
   ],
   "source": [
    "main()"
   ]
  },
  {
   "cell_type": "code",
   "execution_count": 9,
   "id": "soviet-mediterranean",
   "metadata": {
    "ExecuteTime": {
     "end_time": "2021-10-10T14:34:44.512061Z",
     "start_time": "2021-10-10T14:34:43.336745Z"
    }
   },
   "outputs": [
    {
     "name": "stdout",
     "output_type": "stream",
     "text": [
      "3\n",
      "2"
     ]
    },
    {
     "data": {
      "text/plain": [
       "0"
      ]
     },
     "execution_count": 9,
     "metadata": {},
     "output_type": "execute_result"
    }
   ],
   "source": [
    "main()"
   ]
  },
  {
   "cell_type": "markdown",
   "id": "strategic-swift",
   "metadata": {},
   "source": [
    "### Выводы\n",
    "На примере выше мы разобрались, что для решения задачи на ДП нужно 4 вещи:\n",
    "\n",
    "1. Состояние динамики. В примере выше состояние было очень простым: dp[k] - ответ на задчу, если бы полоска была длины k.\n",
    "2. Переходы динамики. В примере выше это рекурсивный переход dp[k] = dp[k - 1] + dp[k - 2] + dp[k - 3].\n",
    "3. Начальное состояние. В примере выше это dp[1] = 1.\n",
    "4. Порядок обхода. В нашем случае это порядок по возрастанию n."
   ]
  },
  {
   "cell_type": "markdown",
   "id": "fantastic-middle",
   "metadata": {},
   "source": [
    "## Кузнечик на максималках\n",
    "### Задача\n",
    "Усложним предыдущую задачу, сохранив при этом асимптотику решения, то есть хочется получить решение за O(n).\n",
    "\n",
    "> Есть полоска из клеток длины n. Неоторые клетки недоступны. Кузнечик находится в клетке номер 1 и хочет попасть в клетку номер n. Каждый раз кузнечик может прыгать лишь вперёд на расстояние от 1 до k. Сколько различных маршрутов существует у кузнечика?"
   ]
  },
  {
   "cell_type": "markdown",
   "id": "second-debut",
   "metadata": {},
   "source": [
    "### Решение за квадрат\n",
    "  \n",
    "  Решение будет очень похожим. Для начала попробуем решить ровно так же как и прошлую задачу:\n",
    "\n",
    "  Пусть $dp[m]$ - ответ на задачу, если бы полоска была длины m. Тогда переходы для доступных будут иметь вид:\n",
    "\n",
    "  $$ dp[m] = dp[m - 1] + dp[m - 2] + ... + dp[m - k] $$\n",
    "\n",
    "  Если клетка недоступна, то $dp[m] = 0$.\n",
    "\n",
    "  К сожалению, мы решили задачу за O(n * k), что в худшем случае ведёт себя как квадрат. Но рано отчаиваться, решение можно улучшить!"
   ]
  },
  {
   "cell_type": "markdown",
   "id": "noticed-fitness",
   "metadata": {},
   "source": [
    "### Решение за линию\n",
    "  \n",
    "Будем хранить $pref[k] = dp[k] + dp[k - 1] + ... + dp[1]$. Это называется префиксной суммой на масиве динамики. И префиксные суммы прекрасно помогают соптимизировать динамику:\n",
    "\n",
    "  $$ dp[m] = dp[m - 1] + dp[m - 2] + ... + dp[m - k] = pref[m - 1] - pref[m - k - 1] $$\n",
    "\n",
    "  То есть достаточно лишь одной операции разности на массиве префиксных сумм, которые очень лекго поддерживать при нашем подсчёте динамики.\n",
    "\n",
    "Из этой задачи стоит понять, что иногда можно ускорить вашу динамику с помощью разных интересных техник. Эти техники приходят лишь с опытом, так что стоит решать как можно больше задач на ДП."
   ]
  },
  {
   "cell_type": "markdown",
   "id": "alive-tenant",
   "metadata": {},
   "source": [
    "## Самая длинная подпоследовательность (из контеста по ТЧ)\n",
    "\n",
    "### Задача\n",
    "\n",
    "> Вам задан массив a из n элементов и число m. Рассмотрим некоторую подпоследовательность a и значение наименьшего общего кратного (НОК) её элементов. Обозначим этот НОК буквой l. Найдите самую длинную подпоследовательность массива a со значением l ≤ m."
   ]
  },
  {
   "cell_type": "markdown",
   "id": "advanced-investing",
   "metadata": {},
   "source": [
    "### Решение\n",
    "Задача очень сложная. Необходимо додуматься до нескольких идей.\n",
    "\n",
    "**Идея 1.** Задача так сформулирована, что вы начинаете думать о подпоследовательности, а нужно на самом деле по сути искать подмножество, так как порядок для взятия НОКа не важен.\n",
    "\n",
    "**Идея 2.** Разобьем числа на группы раных элементов. Пусть чисел, равных x в точности $cnt[x]$. Не сложно заметить, что если мы взяли число x, то можно взять все $cnt[x]$ чисел, что только увличит размер подмножества.\n",
    "\n",
    "**Идея 3.** Пусь $dp[i][j]$ - это максимальное количество чисел, если НОД равен i и мы рассмотрели первые j групп чисел.\n",
    "\n",
    "**Идея 4.** Переходы. Если $t=x \\cdot i$ - НОД чисел, то мы можем взять группу чисел i. То есть $dp[x \\cdot i][j + 1] = dp[x*i][j] + cnt[x]$, где текущая группа состоит из чисел, равных $x$, а $i$ - любое число.\n",
    "\n",
    "**Идея 5.** Можно считать $dp$ в одном и том же массиве (не двумерном, а одномерном).\n",
    "\n",
    "**Идея 6.** Решение работает за $O(n log n)$."
   ]
  },
  {
   "cell_type": "markdown",
   "id": "determined-communication",
   "metadata": {},
   "source": [
    "## НОП\n",
    "### Задача (о наибольшей общей подпоследовательности)\n",
    "\n",
    "> Даны две последовательности a и b. Необходимо найти наибольшую подпоследовательность, которая содержится в каждой из последовательснотей a и b."
   ]
  },
  {
   "cell_type": "markdown",
   "id": "peripheral-tooth",
   "metadata": {},
   "source": [
    "### Решение за квадрат\n",
    "  \n",
    "Пусть состояние динамики $dp[i][j]$ - это размер НОП, если бы $a$ состояло из префикса размера $i$, а $b$ - из префикса размера $j$.\n",
    "\n",
    "Не сложно понять, что бывает 2 вида переходов:\n",
    "\n",
    "* Если $a[i] = b[j]$, то можно удлинить посдедовательность $dp[i-1][j-1]$ числами $a[i]$ и $b[j]$. \n",
    "* В противном случае нужно взять \"лучший ответ\", который лежит либо в $dp[i-1][j]$, либо в $dp[i][j - 1]$.\n",
    "\n",
    "Базу динамики и порядок обхода остаётся на вас."
   ]
  },
  {
   "cell_type": "markdown",
   "id": "raising-impression",
   "metadata": {},
   "source": [
    "## Расстояние Левенштейна\n",
    "### Задача\n",
    "> Определите минимальное количество односимвольных операций (а именно вставки, удаления, замены), необходимых для превращения одной последовательности символов в другую."
   ]
  },
  {
   "cell_type": "markdown",
   "id": "classified-light",
   "metadata": {},
   "source": [
    "### Решение за квадрат\n",
    "  \n",
    "[тык на foxford](https://foxford.ru/wiki/informatika/vychislenie-rasstoyaniya-levenshteyna)"
   ]
  },
  {
   "cell_type": "markdown",
   "id": "supported-melbourne",
   "metadata": {},
   "source": [
    "## НВП\n",
    "### Задача (о наибольшей возрастающей подпоследовательности)\n",
    "\n",
    "> Дана последовательность a<sub>1</sub>, a<sub>2</sub>, ..., a<sub>n</sub>. Необходимо найти такую подпоследовательность в ней, что все элементы идут строго по возрастанию."
   ]
  },
  {
   "cell_type": "markdown",
   "id": "functioning-beads",
   "metadata": {},
   "source": [
    "### Решение\n",
    "[Очень советую прочитать всё об НВП на e-maxx.](https://e-maxx.ru/algo/longest_increasing_subseq_log)"
   ]
  },
  {
   "cell_type": "markdown",
   "id": "pleasant-translation",
   "metadata": {},
   "source": [
    "### Код с восстановлением ответа"
   ]
  },
  {
   "cell_type": "code",
   "execution_count": 1,
   "id": "opposed-miniature",
   "metadata": {
    "ExecuteTime": {
     "end_time": "2021-10-10T14:34:15.466758Z",
     "start_time": "2021-10-10T14:34:15.464684Z"
    }
   },
   "outputs": [],
   "source": [
    "#include <iostream>\n",
    "#include <algorithm>\n",
    "#include <vector>\n",
    "#include <string>\n",
    "\n",
    "using namespace std;\n",
    "\n",
    "const int INF = 2e9;"
   ]
  },
  {
   "cell_type": "code",
   "execution_count": 2,
   "id": "greenhouse-heather",
   "metadata": {
    "ExecuteTime": {
     "end_time": "2021-10-10T14:34:15.614302Z",
     "start_time": "2021-10-10T14:34:15.595477Z"
    }
   },
   "outputs": [],
   "source": [
    "int main() {\n",
    "    int n;\n",
    "    cin >> n;\n",
    "    vector<int> a(n);\n",
    "    for (int& x : a)\n",
    "        cin >> x;\n",
    "\n",
    "    vector<int> p(n, -1);\n",
    "    vector<int> dp(n + 1, INF);\n",
    "    vector<int> ind_dp(n + 1, -1);\n",
    "    dp[0] = -INF;\n",
    "\n",
    "    for (int i = 0; i < n; ++i) {\n",
    "        int l = 0, r = n + 1;\n",
    "        // dp[l]: dp[l] < a[i] и l - max\n",
    "\n",
    "        while (r - l > 1) { // [l; r)\n",
    "            int m = (r + l) / 2;\n",
    "            if (dp[m] < a[i])\n",
    "                l = m;\n",
    "            else\n",
    "                r = m;\n",
    "        }\n",
    "\n",
    "        dp[l + 1] = a[i];\n",
    "        ind_dp[l + 1] = i;\n",
    "        p[i] = ind_dp[l];\n",
    "    }\n",
    "\n",
    "    int i = 1;\n",
    "    while (i < n && dp[i + 1] != INF)\n",
    "        ++i;\n",
    "\n",
    "    i = ind_dp[i]; // индекс (из a) последнего элемента самой длинной ВП\n",
    "    vector<int> ans;\n",
    "    ans.push_back(a[i]);\n",
    "    while (p[i] != -1) {\n",
    "        i = p[i];\n",
    "        ans.push_back(a[i]);\n",
    "    }\n",
    "\n",
    "    reverse(ans.begin(), ans.end());\n",
    "    for (int x : ans)\n",
    "        cout << x << ' ';\n",
    "}\n"
   ]
  },
  {
   "cell_type": "code",
   "execution_count": 3,
   "id": "corporate-killer",
   "metadata": {
    "ExecuteTime": {
     "end_time": "2021-10-10T14:34:21.104350Z",
     "start_time": "2021-10-10T14:34:17.857363Z"
    }
   },
   "outputs": [
    {
     "name": "stdout",
     "output_type": "stream",
     "text": [
      "3 1 2 3\n",
      "1 2 3 "
     ]
    },
    {
     "data": {
      "text/plain": [
       "0"
      ]
     },
     "execution_count": 3,
     "metadata": {},
     "output_type": "execute_result"
    }
   ],
   "source": [
    "main()"
   ]
  },
  {
   "cell_type": "code",
   "execution_count": 4,
   "id": "accurate-washington",
   "metadata": {
    "ExecuteTime": {
     "end_time": "2021-10-10T14:34:32.271051Z",
     "start_time": "2021-10-10T14:34:28.458850Z"
    }
   },
   "outputs": [
    {
     "name": "stdout",
     "output_type": "stream",
     "text": [
      "3 1 0 1\n",
      "0 1 "
     ]
    },
    {
     "data": {
      "text/plain": [
       "0"
      ]
     },
     "execution_count": 4,
     "metadata": {},
     "output_type": "execute_result"
    }
   ],
   "source": [
    "main()"
   ]
  },
  {
   "cell_type": "markdown",
   "id": "explicit-participation",
   "metadata": {},
   "source": [
    "## Рюкзак\n",
    "### Задача\n",
    "> Дано N предметов, n<sub>i</sub> предмет имеет массу w<sub>i</sub> > 0 и стоимость p<sub>i</sub> > 0. Необходимо выбрать из этих предметов такой набор, чтобы суммарная масса не превосходила заданной величины W (вместимость рюкзака), а суммарная стоимость была максимальна.\n",
    "\n",
    "### Решение\n",
    "[Очень советую прочитать все модификации задачи о рюкзаке](https://neerc.ifmo.ru/wiki/index.php?title=%D0%97%D0%B0%D0%B4%D0%B0%D1%87%D0%B0_%D0%BE_%D1%80%D1%8E%D0%BA%D0%B7%D0%B0%D0%BA%D0%B5)"
   ]
  },
  {
   "cell_type": "code",
   "execution_count": null,
   "id": "choice-jesus",
   "metadata": {},
   "outputs": [],
   "source": []
  }
 ],
 "metadata": {
  "kernelspec": {
   "display_name": "C++17",
   "language": "C++17",
   "name": "xcpp17"
  },
  "language_info": {
   "codemirror_mode": "text/x-c++src",
   "file_extension": ".cpp",
   "mimetype": "text/x-c++src",
   "name": "c++",
   "version": "17"
  },
  "toc": {
   "base_numbering": 1,
   "nav_menu": {},
   "number_sections": true,
   "sideBar": true,
   "skip_h1_title": false,
   "title_cell": "Table of Contents",
   "title_sidebar": "Contents",
   "toc_cell": true,
   "toc_position": {},
   "toc_section_display": true,
   "toc_window_display": false
  },
  "varInspector": {
   "cols": {
    "lenName": 16,
    "lenType": 16,
    "lenVar": 40
   },
   "kernels_config": {
    "python": {
     "delete_cmd_postfix": "",
     "delete_cmd_prefix": "del ",
     "library": "var_list.py",
     "varRefreshCmd": "print(var_dic_list())"
    },
    "r": {
     "delete_cmd_postfix": ") ",
     "delete_cmd_prefix": "rm(",
     "library": "var_list.r",
     "varRefreshCmd": "cat(var_dic_list()) "
    }
   },
   "types_to_exclude": [
    "module",
    "function",
    "builtin_function_or_method",
    "instance",
    "_Feature"
   ],
   "window_display": false
  }
 },
 "nbformat": 4,
 "nbformat_minor": 5
}
