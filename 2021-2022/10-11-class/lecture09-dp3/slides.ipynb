{
 "cells": [
  {
   "cell_type": "markdown",
   "id": "laden-locator",
   "metadata": {
    "slideshow": {
     "slide_type": "slide"
    }
   },
   "source": [
    "# ДП по подмножествам и цифрам. Разбор задач"
   ]
  },
  {
   "cell_type": "markdown",
   "id": "least-devil",
   "metadata": {
    "slideshow": {
     "slide_type": "slide"
    }
   },
   "source": [
    "## Задача (скука)"
   ]
  },
  {
   "cell_type": "markdown",
   "id": "meaningful-value",
   "metadata": {},
   "source": [
    "> Задана последовательность a, состоящая из n целых чисел. Игрок может сделать несколько ходов. За один ход игрок может выбрать некоторый элемент последовательности (обозначим выбранный элемент a<sub>k</sub>) и удалить его, при этом из последователости также удаляются все элементы, равные a<sub>k</sub> + 1 и a<sub>k</sub> - 1. Описанный ход приносит игроку a<sub>k</sub> очков. Какое максимальное количество очков возможно набрать?"
   ]
  },
  {
   "cell_type": "markdown",
   "id": "patient-activation",
   "metadata": {
    "slideshow": {
     "slide_type": "slide"
    }
   },
   "source": [
    "#### Решение"
   ]
  },
  {
   "cell_type": "markdown",
   "id": "tender-illinois",
   "metadata": {
    "slideshow": {
     "slide_type": "fragment"
    }
   },
   "source": [
    "Обозначим за cnt[x] количество элементов, равных x. Заметим, что если мы хотя бы раз выбрали элемент, равный x, то мы можем выбрать все cnt[x] элементов, равных x.\n",
    "\n",
    "Далее пусть dp[x] - максимальное количество очков, которое можно набрать, если бы в массиве были элементы, не превосходящие x. Тогда переходы динамики очень простые:\n",
    "\n",
    "$$ dp[i] = max(dp[i - 1], dp[i - 2] + cnt[i] * i) $$\n",
    "\n",
    "То есть мы либо берем все числа, равные i и тогда не можем взять числа, равные i-1, либо берем оптимальный ответ для i-1, не взяв при этом i числа, равные i."
   ]
  },
  {
   "cell_type": "markdown",
   "id": "analyzed-mercy",
   "metadata": {
    "slideshow": {
     "slide_type": "slide"
    }
   },
   "source": [
    "#### Код"
   ]
  },
  {
   "cell_type": "code",
   "execution_count": 22,
   "id": "plastic-indicator",
   "metadata": {
    "ExecuteTime": {
     "end_time": "2021-10-13T10:16:18.425374Z",
     "start_time": "2021-10-13T10:16:18.423580Z"
    }
   },
   "outputs": [],
   "source": [
    "// code will be here"
   ]
  },
  {
   "cell_type": "markdown",
   "id": "considered-chocolate",
   "metadata": {
    "slideshow": {
     "slide_type": "slide"
    }
   },
   "source": [
    "## Задача (гирьки: две одинаковые кучки равной массы)"
   ]
  },
  {
   "cell_type": "markdown",
   "id": "angry-allowance",
   "metadata": {},
   "source": [
    "> Дан набор гирек массой m<sub>1</sub>,…,m<sub>N</sub>. Разделите этот набор на две кучки равной массы, содержащие равное число гирек."
   ]
  },
  {
   "cell_type": "markdown",
   "id": "imposed-tenant",
   "metadata": {
    "heading_collapsed": true,
    "slideshow": {
     "slide_type": "slide"
    }
   },
   "source": [
    "### Решение"
   ]
  },
  {
   "cell_type": "markdown",
   "id": "superb-projector",
   "metadata": {
    "hidden": true,
    "slideshow": {
     "slide_type": "fragment"
    }
   },
   "source": [
    "Здесь нужно совсем чуть-чуть модифицировать рюкзак, а именно: пусть dp[i][w][k] - обозначает, можем ли мы набрать среди первых i гирек рюкзак массой w, содержащий k гирек. Переходы будут иметь вид: (i, w, k) -> (i + 1, w, k) и (i + 1, w + weight[i], k + 1). Ответ будет лежать в dp[n][w/2][k/2]."
   ]
  },
  {
   "cell_type": "markdown",
   "id": "pointed-explosion",
   "metadata": {
    "slideshow": {
     "slide_type": "slide"
    }
   },
   "source": [
    "### Код"
   ]
  },
  {
   "cell_type": "code",
   "execution_count": null,
   "id": "thermal-maria",
   "metadata": {},
   "outputs": [],
   "source": [
    "// code will be here"
   ]
  },
  {
   "cell_type": "markdown",
   "id": "arbitrary-leave",
   "metadata": {
    "slideshow": {
     "slide_type": "slide"
    }
   },
   "source": [
    "## Задача (максимальное число)"
   ]
  },
  {
   "cell_type": "markdown",
   "id": "owned-elizabeth",
   "metadata": {},
   "source": [
    "> Найдите число из отрезка [a, b] с максимальным произведением цифр."
   ]
  },
  {
   "cell_type": "markdown",
   "id": "fuzzy-injury",
   "metadata": {
    "slideshow": {
     "slide_type": "fragment"
    }
   },
   "source": [
    "Часто нужно перебрать все числа из какого-то большого интервала и посчитать количество чисел, котрое удовлетворяет какому-то условию, либо найти \"лучшее\" среди чисел в этом интервале. Тогда нам поможет стандартное ДП по цифрам."
   ]
  },
  {
   "cell_type": "markdown",
   "id": "metropolitan-washer",
   "metadata": {
    "slideshow": {
     "slide_type": "slide"
    }
   },
   "source": [
    "### Решение"
   ]
  },
  {
   "cell_type": "markdown",
   "id": "revised-joint",
   "metadata": {
    "slideshow": {
     "slide_type": "fragment"
    }
   },
   "source": [
    "Пусть dp[l][f1][f2] - это максимальное произведение цифр для числа длины ровно l. При этом если f1 = 0, то \"оптимальное\" число длины l строго меньше префикса длины l числа a, если f1 = 1, то префиксы совпадают и если f1 = 2, то префикс строго больше. Аналогично для f2 и числа b.\n",
    "\n",
    "Зачем такие извращения? Потому что по такому состоянию очень легко узнать, находится ли число в интервале [a; b] или нет. Кроме того, переходы тоже очень легко считаются: если f1 = 0, то переход вохможен только в состояния с f1 = 0 (то же самое для f1 = 2 и для f2). Если же f1 = 1, то вы можете перейти в любое состояние в зависимости от очередной цифры, которую вы сейчас поставите."
   ]
  },
  {
   "cell_type": "markdown",
   "id": "premium-committee",
   "metadata": {},
   "source": [
    "1. l = len(a) => f1 = 1, 2\n",
    "2. l > len(a) => f1 = 0, 1, 2\n",
    "3. l = len(b) => f2 = 0, 1\n",
    "4. l < len(b) => f2 = 0, 1, 2"
   ]
  },
  {
   "cell_type": "markdown",
   "id": "exceptional-cloud",
   "metadata": {
    "slideshow": {
     "slide_type": "slide"
    }
   },
   "source": [
    "### Код"
   ]
  },
  {
   "cell_type": "code",
   "execution_count": null,
   "id": "arbitrary-dietary",
   "metadata": {},
   "outputs": [],
   "source": [
    "// code will be here"
   ]
  },
  {
   "cell_type": "markdown",
   "id": "presidential-donna",
   "metadata": {
    "slideshow": {
     "slide_type": "slide"
    }
   },
   "source": [
    "## Задача (Настя и табло)"
   ]
  },
  {
   "cell_type": "markdown",
   "id": "reduced-isolation",
   "metadata": {},
   "source": [
    "> На табло с цифрами перестало гореть k \"палочек\". По текущей конфигерации табло и числу k необходимо понять, какое максимальное число может гореть на табло, если включить ровно k палочек (из тех которые сейчас выключены)?"
   ]
  },
  {
   "cell_type": "markdown",
   "id": "illegal-classics",
   "metadata": {
    "slideshow": {
     "slide_type": "slide"
    }
   },
   "source": [
    "### Решение"
   ]
  },
  {
   "cell_type": "markdown",
   "id": "popular-brick",
   "metadata": {
    "slideshow": {
     "slide_type": "fragment"
    }
   },
   "source": [
    "Пусть dp[i][j]=true, если на суффиксе i…n можно включить ровно j палочек и получить корректную последовательность цифр и false иначе. Такую динамику легко пересчитать: будем делать переходы во все возможные цифры, которые являются надмаскми нашей маски на позиции i.\n",
    "\n",
    "Построение динамики занимает O(10nd).\n",
    "\n",
    "Теперь пойдём в порядке от 1 до n и будем пробовать жадно ставить максимально возможную цифру, используя нашу динамику. Легко понять, что таким образом мы получим максимально возможное число из n цифр."
   ]
  },
  {
   "cell_type": "markdown",
   "id": "behavioral-woman",
   "metadata": {
    "slideshow": {
     "slide_type": "slide"
    }
   },
   "source": [
    "### Код"
   ]
  },
  {
   "cell_type": "code",
   "execution_count": 1,
   "id": "thick-defense",
   "metadata": {
    "ExecuteTime": {
     "end_time": "2021-10-13T08:44:22.928316Z",
     "start_time": "2021-10-13T08:44:22.927577Z"
    }
   },
   "outputs": [],
   "source": [
    "// code will be here"
   ]
  },
  {
   "cell_type": "markdown",
   "id": "stylish-declaration",
   "metadata": {
    "slideshow": {
     "slide_type": "slide"
    }
   },
   "source": [
    "### Бонус"
   ]
  },
  {
   "cell_type": "markdown",
   "id": "indirect-louisville",
   "metadata": {},
   "source": [
    "На самом деле здесь мы неявно познакомились с техникой ДП по подмножествам, когда нам прилось как-то кодировать \"палочки\". Эта техника очень часто помогает в задачах на ДП, когда необходимо перебрать все подмножества."
   ]
  }
 ],
 "metadata": {
  "celltoolbar": "Слайд-шоу",
  "kernelspec": {
   "display_name": "C++17",
   "language": "C++17",
   "name": "xcpp17"
  },
  "language_info": {
   "codemirror_mode": "text/x-c++src",
   "file_extension": ".cpp",
   "mimetype": "text/x-c++src",
   "name": "c++",
   "version": "17"
  },
  "varInspector": {
   "cols": {
    "lenName": 16,
    "lenType": 16,
    "lenVar": 40
   },
   "kernels_config": {
    "python": {
     "delete_cmd_postfix": "",
     "delete_cmd_prefix": "del ",
     "library": "var_list.py",
     "varRefreshCmd": "print(var_dic_list())"
    },
    "r": {
     "delete_cmd_postfix": ") ",
     "delete_cmd_prefix": "rm(",
     "library": "var_list.r",
     "varRefreshCmd": "cat(var_dic_list()) "
    }
   },
   "types_to_exclude": [
    "module",
    "function",
    "builtin_function_or_method",
    "instance",
    "_Feature"
   ],
   "window_display": false
  }
 },
 "nbformat": 4,
 "nbformat_minor": 5
}
